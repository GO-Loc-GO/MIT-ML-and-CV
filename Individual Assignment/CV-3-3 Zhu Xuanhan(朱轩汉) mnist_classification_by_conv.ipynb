{
 "cells": [
  {
   "cell_type": "code",
   "execution_count": 1,
   "id": "dea93e3c",
   "metadata": {},
   "outputs": [],
   "source": [
    "import torch\n",
    "import torch.nn as nn\n",
    "from torchvision import transforms, datasets, utils\n",
    "import matplotlib.pyplot as plt\n",
    "import numpy as np\n",
    "import torch.optim as optim\n",
    "import os\n",
    "import json\n",
    "import time\n",
    "from PIL import Image\n",
    "import seaborn as sns\n"
   ]
  },
  {
   "cell_type": "code",
   "execution_count": 2,
   "id": "9a707e66",
   "metadata": {},
   "outputs": [],
   "source": [
    "# Define the network\n",
    "class model_for_mnist(nn.Module):\n",
    "    def __init__(self, num_classes=10, init_weights=False):\n",
    "        super(model_for_mnist, self).__init__()\n",
    "        self.features = nn.Sequential(\n",
    "            nn.Conv2d(1, 24, kernel_size=5, padding=(2, 2)),      # input[1, 28, 28]  output[24, 28, 28]\n",
    "            nn.ReLU(inplace=True),\n",
    "            nn.MaxPool2d(kernel_size=2),          # output[24, 14, 14]\n",
    "            nn.Conv2d(24, 48, kernel_size=5, padding=(1, 1)),      # output[48, 12, 12]\n",
    "            nn.ReLU(inplace=True),\n",
    "            nn.MaxPool2d(kernel_size=2),          # output[48, 6, 6]\n",
    "            nn.Conv2d(48, 64, kernel_size=5, padding=(1, 1)),      # output[64, 4, 4]\n",
    "            nn.ReLU(inplace=True),\n",
    "            nn.MaxPool2d(kernel_size=2),          # output[64, 2, 2]\n",
    "        )\n",
    "        self.classifier = nn.Sequential(\n",
    "            nn.Dropout(p=0.5),                    #adding dropout for experiment and a an extra hidden fully connected layer \n",
    "            nn.Linear(64*2*2, 256),\n",
    "            nn.ReLU(inplace=True),\n",
    "            nn.Dropout(p=0.5),\n",
    "            nn.Linear(256,num_classes),\n",
    "            \n",
    "        )\n",
    "        if init_weights:\n",
    "            self._initialize_weights()\n",
    "    def forward(self, x):\n",
    "        x = self.features(x)\n",
    "        x = torch.flatten(x, start_dim=1)          #flatten input tensor  torch.tensor.view() can be used alternatively\n",
    "        x = self.classifier(x)\n",
    "        return x\n",
    "    def _initialize_weights(self):\n",
    "        for m in self.modules():\n",
    "            if isinstance(m, nn.Conv2d):\n",
    "                nn.init.kaiming_normal_(m.weight, mode='fan_out', nonlinearity='relu')\n",
    "                if m.bias is not None:\n",
    "                    nn.init.constant_(m.bias, 0)\n",
    "            elif isinstance(m, nn.Linear):\n",
    "                nn.init.normal_(m.weight, 0, 0.01)  #assigning values from normal distribution\n",
    "                nn.init.constant_(m.bias, 0)"
   ]
  },
  {
   "cell_type": "code",
   "execution_count": 3,
   "id": "aec020f6",
   "metadata": {},
   "outputs": [],
   "source": [
    "#device : GPU or CPU\n",
    "device = torch.device(\"cuda\" if torch.cuda.is_available() else \"cpu\")"
   ]
  },
  {
   "cell_type": "code",
   "execution_count": 4,
   "id": "feba42b1",
   "metadata": {},
   "outputs": [],
   "source": [
    "# Create data loader class\n",
    "\n",
    "class DataLoader :\n",
    "    def __init__(self):\n",
    "        super().__init__()\n",
    "        \n",
    "    def load_MNIST(self,image_path,trans):\n",
    "        #download training and testing dataset which are already divided in mnist,60000 sample for train_set, 10000 samples for test_set\n",
    "        train_set = datasets.MNIST(root=image_path, transform = trans, train = True, download = True)\n",
    "        test_dataset = datasets.MNIST(root=image_path, transform = trans, train = False, download = True)\n",
    "        return train_set, test_dataset\n",
    "    \n",
    "    def load_data(self,val_split, batch_size):\n",
    "        #Data transformation\n",
    "        trans = transforms.Compose([transforms.ToTensor(), transforms.Normalize((0.5,), (1.0,))])\n",
    "        image_path = os.path.abspath(os.getcwd()) # mnist dataset path \n",
    "        train_set, test_dataset =self.load_MNIST(image_path, trans)\n",
    "        \n",
    "        # Create indices for the split later\n",
    "        dataset_size = len(train_set)\n",
    "        val_size = int(val_split * dataset_size)\n",
    "        train_size = dataset_size - val_size\n",
    "    \n",
    "        # Split train_set into train_dataset and val_dataset for training and validation, respectively\n",
    "        train_dataset, val_dataset = torch.utils.data.random_split(train_set,\n",
    "                                                   [train_size, val_size])\n",
    "        \n",
    "        #load the train_dataset and val_dataset into train_loader and val_loader\n",
    "        train_loader = torch.utils.data.DataLoader(\n",
    "                        train_dataset,\n",
    "                        batch_size=batch_size,\n",
    "                        shuffle=True)\n",
    "        val_loader = torch.utils.data.DataLoader(\n",
    "                        val_dataset,\n",
    "                        batch_size=batch_size,\n",
    "                        shuffle=True)\n",
    "\n",
    "        return train_loader, val_loader, train_dataset, val_dataset, test_dataset\n"
   ]
  },
  {
   "cell_type": "code",
   "execution_count": 5,
   "id": "87ed2cf7",
   "metadata": {},
   "outputs": [],
   "source": [
    "#load the data\n",
    "loader = DataLoader()\n",
    "\n",
    "# Here train_dataset will have 55000 samples and val_dataset will have 5000 samples\n",
    "train_loader, val_loader, train_dataset, val_dataset, test_dataset = loader.load_data(1/12,100)"
   ]
  },
  {
   "cell_type": "code",
   "execution_count": 6,
   "id": "e14fc1d6",
   "metadata": {
    "scrolled": false
   },
   "outputs": [
    {
     "name": "stderr",
     "output_type": "stream",
     "text": [
      "D:\\Anaconda3\\envs\\pytorch\\lib\\site-packages\\torch\\nn\\functional.py:718: UserWarning: Named tensors and all their associated APIs are an experimental feature and subject to change. Please do not use them for anything important until they are released as stable. (Triggered internally at  ..\\c10/core/TensorImpl.h:1156.)\n",
      "  return torch.max_pool2d(input, kernel_size, stride, padding, dilation, ceil_mode)\n"
     ]
    },
    {
     "name": "stdout",
     "output_type": "stream",
     "text": [
      "Epoch training progress: 100%[**************************************************->] Average loss of the last batch: 0.203\n",
      "Time taken: 10.625596 s\n",
      "[epoch 1] epoch_loss: 0.814  test_accuracy: 0.938 \n",
      "\n",
      "Epoch training progress: 100%[**************************************************->] Average loss of the last batch: 0.139\n",
      "Time taken: 9.419798 s\n",
      "[epoch 2] epoch_loss: 0.235  test_accuracy: 0.962 \n",
      "\n",
      "Epoch training progress: 100%[**************************************************->] Average loss of the last batch: 0.127\n",
      "Time taken: 9.380320 s\n",
      "[epoch 3] epoch_loss: 0.161  test_accuracy: 0.970 \n",
      "\n",
      "Epoch training progress: 100%[**************************************************->] Average loss of the last batch: 0.137\n",
      "Time taken: 9.392630 s\n",
      "[epoch 4] epoch_loss: 0.126  test_accuracy: 0.976 \n",
      "\n",
      "Epoch training progress: 100%[**************************************************->] Average loss of the last batch: 0.091\n",
      "Time taken: 9.490037 s\n",
      "[epoch 5] epoch_loss: 0.104  test_accuracy: 0.978 \n",
      "\n",
      "Epoch training progress: 100%[**************************************************->] Average loss of the last batch: 0.125\n",
      "Time taken: 9.416580 s\n",
      "[epoch 6] epoch_loss: 0.090  test_accuracy: 0.982 \n",
      "\n",
      "Epoch training progress: 100%[**************************************************->] Average loss of the last batch: 0.116\n",
      "Time taken: 9.446925 s\n",
      "[epoch 7] epoch_loss: 0.083  test_accuracy: 0.984 \n",
      "\n",
      "Epoch training progress: 100%[**************************************************->] Average loss of the last batch: 0.033\n",
      "Time taken: 9.382794 s\n",
      "[epoch 8] epoch_loss: 0.075  test_accuracy: 0.986 \n",
      "\n",
      "Epoch training progress: 100%[**************************************************->] Average loss of the last batch: 0.068\n",
      "Time taken: 9.387909 s\n",
      "[epoch 9] epoch_loss: 0.069  test_accuracy: 0.988 \n",
      "\n",
      "Epoch training progress: 100%[**************************************************->] Average loss of the last batch: 0.038\n",
      "Time taken: 9.376315 s\n",
      "[epoch 10] epoch_loss: 0.062  test_accuracy: 0.986 \n",
      "\n",
      "Training Done\n"
     ]
    }
   ],
   "source": [
    "# training and validation\n",
    "\n",
    "net = model_for_mnist(num_classes=10, init_weights=True)     # instantiate the network（number of classes set to 10，weights initialization）\n",
    "net.to(device)                                               # assign the network to the specified device to be trained (GPU/CPU)\n",
    "loss_function = nn.CrossEntropyLoss()                        # cross-entropy loss\n",
    "optimizer = optim.Adam(net.parameters(), lr=0.0002)          # uses Adam optimizer(network parameters，learning rate), which is SGD based as required in the assignment\n",
    "\n",
    "save_path = './model_for_mnist.pth'\n",
    "best_acc = 0.0\n",
    "losses = []\n",
    "accuracies = []\n",
    "\n",
    "for epoch in range(10):\n",
    "    ########################################## training ###############################################\n",
    "    net.train()                         # enable Dropout\n",
    "    running_loss = 0.0                  # initialize running-loss to 0 at the beginning of every epoch\n",
    "    time_start = time.perf_counter()    # time each epoch\n",
    "    \n",
    "    for step, data in enumerate(train_loader, start=0):  # traverse the training set，start counting steps from 0\n",
    "        images, labels = data   # acquire the data and labels of images in each batch\n",
    "        optimizer.zero_grad()   # set prior calculated gradient to 0\n",
    "        \n",
    "        outputs = net(images.to(device))                 # forward propagation\n",
    "        loss = loss_function(outputs, labels.to(device)) # computing the average loss for each image in the batch\n",
    "        loss.backward()                                  # back propagation\n",
    "        optimizer.step()                                 # update params of the optimizer\n",
    "        running_loss += loss.item()*len(images) #loss.item() is multiplied by batch size given by len(images) because what loss.item returns is a an average loss across the batch\n",
    "        \n",
    "        # visualizing training progress \n",
    "        rate = (step + 1) / len(train_loader)           # current progress = current step / total steps in one epoch\n",
    "        a = \"*\" * int(rate * 50)\n",
    "        b = \".\" * int((1 - rate) * 50)\n",
    "        print(\"\\rEpoch training progress: {:^3.0f}%[{}->{}] Average loss of the last batch: {:.3f}\".format(int(rate * 100), a, b, loss.item()), end=\"\")\n",
    "    print()\n",
    "    print('Time taken: %f s' % (time.perf_counter()-time_start))\n",
    "\n",
    "    ########################################### validation ###########################################\n",
    "    net.eval()    # disable Dropout\n",
    "    acc = 0.0  \n",
    "    with torch.no_grad():\n",
    "        for val_data in val_loader:\n",
    "            val_images, val_labels = val_data\n",
    "            outputs = net(val_images.to(device))\n",
    "            predict_y = torch.max(outputs, dim=1)[1]  # ouput the corresponding label of the biggest value in the 10 outputs from the linear classifeier as the final prediction\n",
    "            acc += (predict_y == val_labels.to(device)).sum().item() #count the number of correct predictions in the batch and to the total count acc\n",
    "        val_accurate = acc / len(val_dataset)   #computes overall accuracy\n",
    "        \n",
    "        # save the network weights of the one with the accuracy\n",
    "        if val_accurate > best_acc:\n",
    "            best_acc = val_accurate\n",
    "            torch.save(net.state_dict(), save_path)\n",
    "            \n",
    "        epoch_loss = running_loss / len(train_dataset) #which is the average loss across the whole dataset\n",
    "        print('[epoch %d] epoch_loss: %.3f  test_accuracy: %.3f \\n' %\n",
    "              (epoch + 1, epoch_loss, val_accurate))\n",
    "        losses.append(epoch_loss)\n",
    "        accuracies.append(val_accurate*100)\n",
    "\n",
    "print('Training Done')"
   ]
  },
  {
   "cell_type": "code",
   "execution_count": 7,
   "id": "13905a78",
   "metadata": {},
   "outputs": [],
   "source": [
    "def plot(x, y, ax, title, y_label,x_label,xlim,ylim):\n",
    "    ax.set_title(title)\n",
    "    ax.set_ylabel(y_label)\n",
    "    ax.set_xlabel(x_label)\n",
    "    ax.set_xlim(xlim[0], xlim[1])\n",
    "    ax.set_ylim(ylim[0], ylim[1])\n",
    "    ax.plot(x, y, 'ok',ms=5)\n",
    "    ax.plot(x, y,)\n",
    "    ax.margins(x=0, y=0)"
   ]
  },
  {
   "cell_type": "code",
   "execution_count": 8,
   "id": "95656be1",
   "metadata": {},
   "outputs": [
    {
     "data": {
      "image/png": "[encoded data removed]",
      "text/plain": [
       "<Figure size 432x288 with 1 Axes>"
      ]
     },
     "metadata": {},
     "output_type": "display_data"
    },
    {
     "data": {
      "image/png": "[encoded data removed]",
      "text/plain": [
       "<Figure size 432x288 with 1 Axes>"
      ]
     },
     "metadata": {},
     "output_type": "display_data"
    }
   ],
   "source": [
    "sns.set(style=\"darkgrid\")\n",
    "fig1, ax1 = plt.subplots()\n",
    "fig2, ax2 = plt.subplots()\n",
    "x=[1,2,3,4,5,6,7,8,9,10]\n",
    "plot(x, losses, ax1, 'Change of loss after each epoch', 'Loss',\"Epoch\",[0,10.5],[0,0.9])\n",
    "plot(x,accuracies,ax2, 'Accuracy on validation set after each epoch','Accuracy(%)',\"Epoch\",[0,10.5],[90,100])"
   ]
  },
  {
   "cell_type": "markdown",
   "id": "a25d495e",
   "metadata": {},
   "source": [
    "As can be seen from the plots, the loss decreases gradually after each epoch while the model accurcy on the 10000-sample validation set keeps increasing from around 94% to about 99%."
   ]
  },
  {
   "cell_type": "code",
   "execution_count": 9,
   "id": "a3b52574",
   "metadata": {},
   "outputs": [],
   "source": [
    "# acquire the dictionary for target classes with elements in the form of \"class: index\" \n",
    "# i.e.{'0 - zero': 0, '1 - one': 1, '2 - two': 2, '3 - three': 3, '4 - four': 4, '5 - five': 5, '6 - six': 6, '7 - seven': 7, '8 - eight': 8, '9 - nine': 9}\n",
    "classes_list = test_dataset.class_to_idx\n",
    "# swap the position of keys and vals in classes_list\n",
    "cla_dict = dict((val, key) for key, val in classes_list.items())\n",
    "\n",
    "# write cla_dict into a json file\n",
    "json_str = json.dumps(cla_dict, indent=4)\n",
    "with open('class_indices.json', 'w') as json_file:\n",
    "    json_file.write(json_str)"
   ]
  },
  {
   "cell_type": "code",
   "execution_count": 10,
   "id": "a4224857",
   "metadata": {
    "scrolled": false
   },
   "outputs": [
    {
     "name": "stdout",
     "output_type": "stream",
     "text": [
      "\u001b[1mCalssification results of the first 10 samples in the test dataset:\n"
     ]
    },
    {
     "data": {
      "image/png": "[encoded data removed]",
      "text/plain": [
       "<Figure size 432x288 with 1 Axes>"
      ]
     },
     "metadata": {},
     "output_type": "display_data"
    },
    {
     "name": "stdout",
     "output_type": "stream",
     "text": [
      "Predicted class is: 7 - seven \n",
      "Corresponding probability is: 0.999988317489624\n"
     ]
    },
    {
     "data": {
      "image/png": "[encoded data removed]",
      "text/plain": [
       "<Figure size 432x288 with 1 Axes>"
      ]
     },
     "metadata": {},
     "output_type": "display_data"
    },
    {
     "name": "stdout",
     "output_type": "stream",
     "text": [
      "Predicted class is: 2 - two \n",
      "Corresponding probability is: 0.999840259552002\n"
     ]
    },
    {
     "data": {
      "image/png": "[encoded data removed]",
      "text/plain": [
       "<Figure size 432x288 with 1 Axes>"
      ]
     },
     "metadata": {},
     "output_type": "display_data"
    },
    {
     "name": "stdout",
     "output_type": "stream",
     "text": [
      "Predicted class is: 1 - one \n",
      "Corresponding probability is: 0.9998950958251953\n"
     ]
    },
    {
     "data": {
      "image/png": "[encoded data removed]",
      "text/plain": [
       "<Figure size 432x288 with 1 Axes>"
      ]
     },
     "metadata": {},
     "output_type": "display_data"
    },
    {
     "name": "stdout",
     "output_type": "stream",
     "text": [
      "Predicted class is: 0 - zero \n",
      "Corresponding probability is: 0.9998693466186523\n"
     ]
    },
    {
     "data": {
      "image/png": "[encoded data removed]",
      "text/plain": [
       "<Figure size 432x288 with 1 Axes>"
      ]
     },
     "metadata": {},
     "output_type": "display_data"
    },
    {
     "name": "stdout",
     "output_type": "stream",
     "text": [
      "Predicted class is: 4 - four \n",
      "Corresponding probability is: 0.9999568462371826\n"
     ]
    },
    {
     "data": {
      "image/png": "[encoded data removed]",
      "text/plain": [
       "<Figure size 432x288 with 1 Axes>"
      ]
     },
     "metadata": {},
     "output_type": "display_data"
    },
    {
     "name": "stdout",
     "output_type": "stream",
     "text": [
      "Predicted class is: 1 - one \n",
      "Corresponding probability is: 0.9999885559082031\n"
     ]
    },
    {
     "data": {
      "image/png": "[encoded data removed]",
      "text/plain": [
       "<Figure size 432x288 with 1 Axes>"
      ]
     },
     "metadata": {},
     "output_type": "display_data"
    },
    {
     "name": "stdout",
     "output_type": "stream",
     "text": [
      "Predicted class is: 4 - four \n",
      "Corresponding probability is: 0.999355137348175\n"
     ]
    },
    {
     "data": {
      "image/png": "[encoded data removed]",
      "text/plain": [
       "<Figure size 432x288 with 1 Axes>"
      ]
     },
     "metadata": {},
     "output_type": "display_data"
    },
    {
     "name": "stdout",
     "output_type": "stream",
     "text": [
      "Predicted class is: 9 - nine \n",
      "Corresponding probability is: 0.9865210056304932\n"
     ]
    },
    {
     "data": {
      "image/png": "[encoded data removed]",
      "text/plain": [
       "<Figure size 432x288 with 1 Axes>"
      ]
     },
     "metadata": {},
     "output_type": "display_data"
    },
    {
     "name": "stdout",
     "output_type": "stream",
     "text": [
      "Predicted class is: 5 - five \n",
      "Corresponding probability is: 0.9897614121437073\n"
     ]
    },
    {
     "data": {
      "image/png": "[encoded data removed]",
      "text/plain": [
       "<Figure size 432x288 with 1 Axes>"
      ]
     },
     "metadata": {},
     "output_type": "display_data"
    },
    {
     "name": "stdout",
     "output_type": "stream",
     "text": [
      "Predicted class is: 9 - nine \n",
      "Corresponding probability is: 0.9991353154182434\n",
      "\u001b[1m\n",
      "Overall accuracy on whole test set is 0.9894\n"
     ]
    }
   ],
   "source": [
    "# testing\n",
    "\n",
    "# read class_indices.json into class_indict\n",
    "try:\n",
    "    json_file = open('./class_indices.json', 'r')\n",
    "    class_indict = json.load(json_file)\n",
    "except Exception as e:\n",
    "    print(e)\n",
    "    exit(-1)\n",
    "\n",
    "# create model\n",
    "model = model_for_mnist(num_classes=10)\n",
    "# load model weights\n",
    "model_weight_path = \"./model_for_mnist.pth\"\n",
    "model.load_state_dict(torch.load(model_weight_path))\n",
    "\n",
    "# disable Dropout\n",
    "model.eval()\n",
    "correct = 0\n",
    "i=0\n",
    "print('\\033[1m' + \"Calssification results of the first 10 samples in the test dataset:\")\n",
    "with torch.no_grad():\n",
    "    # predict class\n",
    "    for test_image, image_label in test_dataset:\n",
    "        test_image = torch.unsqueeze(test_image, dim=0)\n",
    "        output = torch.squeeze(model(test_image))     # squeeze the output to get rid of the dimension for batch\n",
    "        predict = torch.softmax(output, dim=0)\n",
    "        predict_cla = torch.argmax(predict).numpy()\n",
    "        if (predict_cla == image_label):\n",
    "            correct+=1\n",
    "        if(i<10):\n",
    "            img = torch.squeeze(torch.squeeze(test_image))\n",
    "            plt.imshow(img,cmap='Greys')\n",
    "            plt.xticks([])\n",
    "            plt.yticks([])\n",
    "            plt.tight_layout()\n",
    "            plt.show()\n",
    "            print(\"Predicted class is:\",class_indict[str(predict_cla)],\"\\nCorresponding probability is:\",predict[predict_cla].item())\n",
    "        i+=1\n",
    "accuracy = correct / len(test_dataset)\n",
    "print('\\033[1m' + \"\\nOverall accuracy on whole test set is\",accuracy)\n"
   ]
  },
  {
   "cell_type": "markdown",
   "id": "2d3b7dd5",
   "metadata": {},
   "source": [
    "# Summary\n",
    "Network Structure Overview:\n",
    "    \n",
    "    1.Conv 2D, 24 filters, 5x5, stride 1x1, padding 2x2 ReLU + MaxPool2D (2x2)\n",
    "    2.Conv 2D, 48 filters, 5x5, stride 1x1, padding 1x1 ReLU + MaxPool2D (2x2)\n",
    "    3.Conv 2D, 64 filters, 5x5, stride 1x1, padding 1x1 ReLU + MaxPool2D (2x2)\n",
    "    4.FC-1: The first fully connected layer has 256 neurons, with ReLU + Dropout\n",
    "    5.FC-2: The second fully connected layer has 10 neurons corresponding one class each for output, with Dropout\n",
    "\n",
    "Fundamental architectural modifications on the model include adding padding after each convolutional layer to prevent the size of input from becoming smaller than the size of filters. Other modifications include adding one extra hidden FC layer with 256 neurons with ReLU activation. Additionally, both the extra hidden FC layer and the output layer are equipped with dropout of 0.5 probability. However, aside from the necessary modification of padding, other modifications did not improve the performance of the model significantly as the suggested structure in the assignment instructions was already producing fine results with a final accuracy of close to 99% on the validation set.\n",
    "\n",
    "The test result of the model on the test set of 10000 samples is consistent with the validation with an accuracy of about 99%, which shows good generalization ability of the model.\n",
    "\n",
    "Plots of loss evolution and validation accuracies achieved by the model after each epoch are plotted in codes above."
   ]
  },
  {
   "cell_type": "code",
   "execution_count": null,
   "id": "a729e033",
   "metadata": {},
   "outputs": [],
   "source": []
  }
 ],
 "metadata": {
  "kernelspec": {
   "display_name": "Python 3 (ipykernel)",
   "language": "python",
   "name": "python3"
  },
  "language_info": {
   "codemirror_mode": {
    "name": "ipython",
    "version": 3
   },
   "file_extension": ".py",
   "mimetype": "text/x-python",
   "name": "python",
   "nbconvert_exporter": "python",
   "pygments_lexer": "ipython3",
   "version": "3.8.10"
  }
 },
 "nbformat": 4,
 "nbformat_minor": 5
}
