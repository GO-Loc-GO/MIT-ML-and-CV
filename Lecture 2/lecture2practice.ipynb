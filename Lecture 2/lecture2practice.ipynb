{
 "cells": [
  {
   "cell_type": "code",
   "execution_count": 79,
   "id": "b4cf9b99",
   "metadata": {},
   "outputs": [
    {
     "name": "stdout",
     "output_type": "stream",
     "text": [
      "       0    1    2    3    4                5\n",
      "1      1  5.1  3.5  1.4  0.2      Iris-setosa\n",
      "2      2  4.9  3.0  1.4  0.2      Iris-setosa\n",
      "3      3  4.7  3.2  1.3  0.2      Iris-setosa\n",
      "4      4  4.6  3.1  1.5  0.2      Iris-setosa\n",
      "5      5  5.0  3.6  1.4  0.2      Iris-setosa\n",
      "..   ...  ...  ...  ...  ...              ...\n",
      "96    96  5.7  3.0  4.2  1.2  Iris-versicolor\n",
      "97    97  5.7  2.9  4.2  1.3  Iris-versicolor\n",
      "98    98  6.2  2.9  4.3  1.3  Iris-versicolor\n",
      "99    99  5.1  2.5  3.0  1.1  Iris-versicolor\n",
      "100  100  5.7  2.8  4.1  1.3  Iris-versicolor\n",
      "\n",
      "[100 rows x 6 columns]\n",
      "[[1.  6.9 3.1 4.9 1.5]]\n",
      "[[1.  5.4 3.4 1.5 0.4]]\n",
      "[[1.  5.  3.  1.6 0.2]]\n",
      "[[1.  5.9 3.  4.2 1.5]]\n",
      "[[1.  5.  3.5 1.6 0.6]]\n",
      "[[1.  6.4 3.2 4.5 1.5]]\n",
      "[[1.  5.8 4.  1.2 0.2]]\n",
      "Accuracy is: 1.0\n"
     ]
    },
    {
     "data": {
      "image/png": "[encoded data removed]",
      "text/plain": [
       "<Figure size 432x288 with 1 Axes>"
      ]
     },
     "metadata": {
      "needs_background": "light"
     },
     "output_type": "display_data"
    },
    {
     "name": "stdout",
     "output_type": "stream",
     "text": [
      "4\n",
      "[-1.  -2.  -4.6  7.7  3.1]\n",
      "end\n"
     ]
    }
   ],
   "source": [
    "# %load lecture2practice.py\n",
    "import numpy as np\n",
    "import matplotlib.pyplot as plt\n",
    "import pandas as pd\n",
    "from sklearn.model_selection import train_test_split\n",
    "\n",
    "def load_data():\n",
    "    dataFrame = pd.read_csv('Iris.csv', header = None)#第一个参数为文件存放地址\n",
    "#     print(dataFrame)\n",
    "    \n",
    "    dataFrame = dataFrame[1:101]#第一行为各数据名称，处理时不需要，所以index为1:101\n",
    "    print(dataFrame)\n",
    "    dataFrame[5] = np.where(dataFrame.iloc[:,-1] == 'Iris-setosa', 0, 1)#把Iris—setosa替换为0作为标签， Iris-versicolor替换为1作为标签\n",
    "    dataFrame = np.asmatrix(dataFrame, dtype = 'float64')\n",
    "    return dataFrame\n",
    "\n",
    "def perceptron(data, epochs):\n",
    "    features = data[:, 1:-1]#第一列为id，不需要此列数据，所以index为1:-1\n",
    "    labels = data[:, -1]\n",
    "    (f_train,f_test,l_train,l_test)=train_test_split(features, labels, test_size=0.4)\n",
    "\n",
    "    w = np.zeros(shape = (1, features.shape[1]+1))\n",
    "#     for i in w:\n",
    "#         i+=1\n",
    "    misclassified_ = []\n",
    "    \n",
    "    for i in range(epochs):\n",
    "        misclassified = 0\n",
    "        for x, label in zip(f_train, l_train):\n",
    "            x = np.insert(x,0,1)\n",
    "            y = np.dot(w, x.T)\n",
    "            target = 1.0 if (y > 0) else 0.0\n",
    "            \n",
    "            delta = (label.item(0,0) - target)\n",
    "            \n",
    "            if(delta):\n",
    "                misclassified +=1\n",
    "                w += (delta * x)\n",
    "                print(x)\n",
    "        \n",
    "        misclassified_.append(misclassified)\n",
    "    \n",
    "    return (w, misclassified_, f_test, l_test)\n",
    "\n",
    "dataFrame = load_data()\n",
    "\n",
    "'''#画散点图，blog中感觉是因为她的数据和我们的数据不一样，所以用blog里面代码的index有误，更改的地方为np.array(dataFrame[:50,1]), np.array(dataFrame[:50,3])\n",
    "plt.scatter(np.array(dataFrame[:50,1]), np.array(dataFrame[:50,3]),marker = 'o', label = 'setosa')\n",
    "plt.scatter(np.array(dataFrame[50:,1]),np.array(dataFrame[50:,3]),marker = 'o' ,label = 'versicolor')\n",
    "plt.xlabel('sepal length')\n",
    "plt.ylabel('petal length')\n",
    "plt.legend()\n",
    "plt.show()\n",
    "'''\n",
    "\n",
    "\n",
    "epochs = 10\n",
    "w, misclassified_, f_test, l_test = perceptron(dataFrame, epochs)\n",
    "misclassification = 0\n",
    "y_pred = []\n",
    "for x, label in zip(f_test, l_test) :\n",
    "    x = np.insert(x,0,1)\n",
    "    y = np.dot(w, x.T)\n",
    "    y_pred.append(y)\n",
    "    if(y!=label):\n",
    "        misclassification+=1\n",
    "accuracy = misclassification/len(l_test)\n",
    "print(\"Accuracy is:\",accuracy)\n",
    "epochs = np.arange(1, epochs + 1)\n",
    "plt.plot(epochs, misclassified_)\n",
    "plt.xlabel('iterations')\n",
    "plt.ylabel('misclassified')\n",
    "plt.show()\n",
    "\n",
    "print(dataFrame[:, 1:-1].shape[1])\n",
    "print(w[0])\n",
    "\n",
    "# fig, ax = plt.subplots(1, 1, figsize=(6, 3))\n",
    "# ax.plot(x_train[0], x_train[1], 'bo')\n",
    "# ax.plot(x_train[0], ypred, 'b')\n",
    "# plt.xlabel(\"x\")\n",
    "# plt.ylabel(\"y\")\n",
    "# plt.grid()\n",
    "\n",
    "\n",
    "\n",
    "print('end')"
   ]
  },
  {
   "cell_type": "code",
   "execution_count": 80,
   "id": "eec99fe2",
   "metadata": {},
   "outputs": [],
   "source": [
    "def perceptron2(data, epochs):\n",
    "    features = data[:, 1:-1]#第一列为id，不需要此列数据，所以index为1:-1\n",
    "    labels = data[:, -1]\n",
    "    \n",
    "    \n",
    "    w = np.zeros(shape = (1, features.shape[1]+1))\n",
    "#     w = [0,1,1]\n",
    "    misclassified_ = []\n",
    "    \n",
    "    for i in range(epochs):\n",
    "        misclassified = 0\n",
    "        for x, label in zip(features, labels):\n",
    "            x = np.insert(x,0,1)\n",
    "            y = np.dot(w, x.T)\n",
    "            \n",
    "            if(label.item(0,0)*y<=0):\n",
    "                misclassified +=1\n",
    "                w += (label.item(0,0) * x)\n",
    "                print(x)\n",
    "        \n",
    "        misclassified_.append(misclassified)\n",
    "    \n",
    "    return (w, misclassified_)"
   ]
  },
  {
   "cell_type": "code",
   "execution_count": 81,
   "id": "db0fc534",
   "metadata": {},
   "outputs": [
    {
     "name": "stdout",
     "output_type": "stream",
     "text": [
      "[[ 1. -1.  1.]]\n",
      "[[ 1.  0. -1.]]\n"
     ]
    },
    {
     "data": {
      "image/png": "[encoded data removed]",
      "text/plain": [
       "<Figure size 432x288 with 1 Axes>"
      ]
     },
     "metadata": {
      "needs_background": "light"
     },
     "output_type": "display_data"
    },
    {
     "name": "stdout",
     "output_type": "stream",
     "text": [
      "[[ 0. -1.  2.]]\n",
      "[2, 0, 0, 0, 0, 0, 0, 0, 0, 0]\n"
     ]
    }
   ],
   "source": [
    "data = np.matrix([[1,2,3],[-1,0,1.5],[1,-1,1],[1,-1,1]])\n",
    "epochs = 10\n",
    "w, misclassified_=perceptron2(np.transpose(data), epochs)\n",
    "epochs = np.arange(1, epochs + 1)\n",
    "plt.plot(epochs, misclassified_,'ok',ms=1)\n",
    "plt.xlabel('iterations')\n",
    "plt.ylabel('misclassified')\n",
    "plt.show()\n",
    "print(w)\n",
    "print(misclassified_)"
   ]
  },
  {
   "cell_type": "code",
   "execution_count": null,
   "id": "6a30380d",
   "metadata": {},
   "outputs": [],
   "source": []
  }
 ],
 "metadata": {
  "kernelspec": {
   "display_name": "Python 3",
   "language": "python",
   "name": "python3"
  },
  "language_info": {
   "codemirror_mode": {
    "name": "ipython",
    "version": 3
   },
   "file_extension": ".py",
   "mimetype": "text/x-python",
   "name": "python",
   "nbconvert_exporter": "python",
   "pygments_lexer": "ipython3",
   "version": "3.8.10"
  }
 },
 "nbformat": 4,
 "nbformat_minor": 5
}
