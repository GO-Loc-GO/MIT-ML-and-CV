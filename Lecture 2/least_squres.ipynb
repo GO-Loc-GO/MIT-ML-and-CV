{
 "cells": [
  {
   "cell_type": "markdown",
   "metadata": {},
   "source": [
    "## Introduction\n",
    "\n",
    "In this exercise, we will motivate the least-squares problem for linear regression.  The point of this exercise is to recall some relevant ideas/notation from calculus and linear algebra and to practice some basic calculations that are common in the optimization world.\n",
    "\n",
    "We provide problems <i>and</i> their solutions, so that this document is suitable for self study.  But, we encourage readers to try the exercises before looking at the answers.  Feel free to do the math exercises on scrap paper---no need to learn how to type up equations!\n",
    "\n",
    "## Problem setup\n",
    "\n",
    "Suppose we wish to predict the height of a plant grown for a month as a function of several factors:\n",
    "<ul>\n",
    "    <li> The amount of water we give the plant per week, in liters ($x_1$)</li>\n",
    "    <li> The amount of fertilizer we mix with the soil, in cubic inches ($x_2$)</li>\n",
    "    <li> The distance of the plant to the window, in feet ($x_3$)</li>\n",
    "    <li> The height of the plant at the beginning of the month, in inches ($x_4$)</li>\n",
    "</ul>\n",
    "We can use a <i>vector</i> $x\\in\\mathbb R^4$ to represent a given plant.  Here, $\\mathbb R^4$ denotes the set of 4-dimensional vectors:  $x=(x_1,x_2,x_3,x_4).$\n",
    "\n",
    "We will assume in our course that vectors are <i>column vectors</i>, meaning that points in $\\mathbb R^k$ can be written as $k\\times 1$ matrices:\n",
    "$$x=\\begin{pmatrix} x_1\\\\x_2\\\\x_3\\\\x_4 \\end{pmatrix} = \\begin{pmatrix} \\textrm{water} \\\\ \\textrm{fertilizer} \\\\ \\textrm{window distance} \\\\ \\textrm{initial height}\\end{pmatrix}.$$\n",
    "\n",
    "## Linear regression\n",
    "\n",
    "Let's say we have a collection of $n$ plants.  Each plant $p$, where $p\\in\\{1,\\ldots,n\\}$, experiences its own factors described in the previous section, which we can store in a vector $x^{(p)}\\in\\mathbb R^4$.  We grow each plant for a month and measure its height $h^{(p)}\\in \\mathbb R$.  Our goal is to develop a <i>model</i> for predicting $h$ from $x$, that is, for predicting the height of the plant after a month of growth from the factors we identified above.\n",
    "\n",
    "In <i>linear regression</i>, we assume that $h$ is well-approximated by a weighted average of the elements of $x$.  That is, we think there is an unknown <i>weight vector</i> $w\\in\\mathbb R^4$ such that $$h\\approx w_1x_1+w_2x_2+w_3x_3+w_4 x_4 = \\sum_{k=1}^4 w_k x_k= w\\cdot x.$$ Make sure you understand the three equivalent ways to denote the sum on the right of the $\\approx$; the fourth is a <i>dot product</i> between vectors $x,w\\in\\mathbb R^4$.\n",
    "\n",
    "Here's a fourth way to compute the same value, using a matrix transpose:\n",
    "$$w\\cdot x=w^\\top x = \\begin{pmatrix} w_1 \\\\ w_2 \\\\ w_3 \\\\ w_4 \\end{pmatrix}^\\top \\begin{pmatrix} x_1 \\\\ x_2 \\\\ x_3 \\\\ x_4 \\end{pmatrix} =\\begin{pmatrix} w_1 & w_2 & w_3 & w_4 \\end{pmatrix} \\begin{pmatrix} x_1 \\\\ x_2 \\\\ x_3 \\\\ x_4 \\end{pmatrix}.$$\n",
    "\n",
    "## Least-squares\n",
    "\n",
    "To predict the heights of plants in the future, we would like to estimate $w$ given our data $\\{(x^{(1)},h^{(1)}),\\ldots,(x^{(n)},h^{(n)})\\}.$  A good choice of $w$ will have the property that $(w\\cdot x^{(p)}-h^{(p)})^2$ is close to zero for all $p\\in\\{1,\\ldots,n\\}$.  Summing over our data points, a reasonable <i>objective function</i> measuring the quality of a potential choice of $w\\in\\mathbb R^4$ is the following:\n",
    "$$f(w):=\\frac{1}{2}\\sum_{p=1}^n (w\\cdot x^{(p)}-h^{(p)})^2$$"
   ]
  },
  {
   "cell_type": "markdown",
   "metadata": {},
   "source": [
    "<b>Exercise 1:</b>  Write an expression for the partial derivative $\\frac{\\partial f}{\\partial w_i}.$"
   ]
  },
  {
   "cell_type": "markdown",
   "metadata": {},
   "source": [
    "<b>Solution 1:</b>  $$\\frac{\\partial f}{\\partial w_i} = \\sum_{p=1}^n (w\\cdot x^{(p)}-h^{(p)})x^{(p)}_i.$$"
   ]
  },
  {
   "cell_type": "markdown",
   "metadata": {},
   "source": [
    "<b>Exercise 2:</b>  Write an expression for the gradient $\\nabla_w f(w)$, that is, the gradient of the function $f$ with respect to the variable $w$."
   ]
  },
  {
   "cell_type": "markdown",
   "metadata": {},
   "source": [
    "<b>Solution 2:</b>  $$\\nabla_w f = \\sum_{p=1}^n (w\\cdot x^{(p)}-h^{(p)})x^{(p)}$$"
   ]
  },
  {
   "cell_type": "markdown",
   "metadata": {},
   "source": [
    "## Matrix notation\n",
    "\n",
    "We can construct a matrix $X\\in\\mathbb R^{n\\times 4}$ containing all of our data points in its rows:\n",
    "    $$X:=\\begin{pmatrix}  x^{(1)}_1 & x^{(1)}_2 & x^{(1)}_3 & x^{(1)}_4\\\\ \n",
    "    x^{(2)}_1 & x^{(2)}_2 & x^{(2)}_3 & x^{(2)}_4 \\\\ \\vdots & \\vdots & \\vdots & \\vdots\\\\ x^{(n)}_1 & x^{(n)}_2 & x^{(n)}_3 & x^{(n)}_4 \\end{pmatrix}.$$"
   ]
  },
  {
   "cell_type": "markdown",
   "metadata": {},
   "source": [
    "Recall the vector norm: $$\\|v\\|_2:=\\sqrt{v_1^2+v_2^2+\\cdots+v_n^2}.$$\n",
    "\n",
    "The following exercise is intended to help you remember linear algebra, including matrix-vector products, transposes, and vector norms.  It may help to do some examples on paper.\n",
    "\n",
    "<b>Exercise 3:</b>  Justify the expression $f(w)=\\frac{1}{2} \\|Xw - h\\|_2^2$.  Here, $h\\in\\mathbb R^n$ is the vector of $h$ values for all the plants."
   ]
  },
  {
   "cell_type": "markdown",
   "metadata": {},
   "source": [
    "<b>Exercise 4:</b> Justify the expression $\\nabla_w f(w) = X^\\top(Xw - h).$"
   ]
  },
  {
   "cell_type": "markdown",
   "metadata": {},
   "source": [
    "## Coding\n",
    "\n",
    "Now, let's code this up.  Run the following segment of code to load the appropriate Python libraries:"
   ]
  },
  {
   "cell_type": "code",
   "execution_count": 8,
   "metadata": {},
   "outputs": [],
   "source": [
    "import numpy as np\n",
    "from numpy.linalg import norm\n",
    "from numpy.random import rand\n",
    "from matplotlib import pyplot as plt"
   ]
  },
  {
   "cell_type": "markdown",
   "metadata": {},
   "source": [
    "<b>Exercise 5:</b> Implement $f(w)$ as a Python function; we will use NumPy to store matrices and vectors."
   ]
  },
  {
   "cell_type": "code",
   "execution_count": 11,
   "metadata": {},
   "outputs": [],
   "source": [
    "def f(w,X,h):\n",
    "    return 0.5*norm(X.dot(w)-h)**2"
   ]
  },
  {
   "cell_type": "markdown",
   "metadata": {},
   "source": [
    "<b>Exercise 6:</b> Implement the gradient $\\nabla_w f$ as a Python function."
   ]
  },
  {
   "cell_type": "code",
   "execution_count": 10,
   "metadata": {},
   "outputs": [],
   "source": [
    "def gradf(w,X,h):\n",
    "    return X.transpose().dot(X.dot(w) - h)"
   ]
  },
  {
   "cell_type": "markdown",
   "metadata": {},
   "source": [
    "We'll implement the most popular optimization algorithm to find a $w$ that minimizes $f(w)$, known as <i>gradient descent</i>.  First, do some reading online about this technique; there are <i>many</i> great writeups of gradient descent, such as this one:  https://towardsdatascience.com/machine-learning-101-an-intuitive-introduction-to-gradient-descent-366b77b52645\n",
    "\n",
    "In the end, gradient descent updates an estimate of the best $w$ using the following formula:  $$w\\gets w - \\eta \\nabla_w f(w),$$ where $\\eta>0$ is the <i>learning rate.</i>  \n",
    "\n",
    "<b>Exercise 7:</b> Implement the gradient descent step in the code below.  If it's implemented correctly, the objective value should go to near 0 in the plot."
   ]
  },
  {
   "cell_type": "code",
   "execution_count": 12,
   "metadata": {},
   "outputs": [
    {
     "name": "stdout",
     "output_type": "stream",
     "text": [
      "[[1.003533  ]\n",
      " [2.00151484]\n",
      " [3.0010978 ]\n",
      " [4.00268399]]\n"
     ]
    },
    {
     "data": {
      "image/png": "[encoded data removed]",
      "text/plain": [
       "<Figure size 432x288 with 1 Axes>"
      ]
     },
     "metadata": {},
     "output_type": "display_data"
    }
   ],
   "source": [
    "# Synthesize a dataset of size 100\n",
    "X = rand(100,4)\n",
    "w_groundtruth = np.array([[1],[2],[3],[4]])\n",
    "y = X.dot(w_groundtruth) + 0.01*rand(100,1)\n",
    "\n",
    "# Parameters of gradient descent:  Feel free to play with these!\n",
    "eta = 0.01\n",
    "n_steps = 100\n",
    "\n",
    "# Initialize a guess for the solution \"w\"\n",
    "w = np.zeros((4,1))\n",
    "\n",
    "# We will use the following vector to keep track of objective values\n",
    "objective_values = np.zeros((n_steps,1))\n",
    "\n",
    "for i in range(n_steps):\n",
    "    w -= eta*gradf(w,X,y) # gradient descent step\n",
    "    objective_values[i] = f(w,X,y) # store objective value\n",
    "\n",
    "\n",
    "# Plot the objective as a function of the iteration\n",
    "plt.plot(objective_values)\n",
    "plt.xlabel('Iteration counter')\n",
    "plt.ylabel('Objective function value')\n",
    "\n",
    "print(w)"
   ]
  },
  {
   "cell_type": "markdown",
   "metadata": {},
   "source": [
    "Congratulations!  You have implemented your first optimization problem and solver.  Notice that the code also prints out the estimate you get from gradient descent of the unknown variable $w$, which should satisfy $w\\approx(1,2,3,4).$"
   ]
  },
  {
   "cell_type": "markdown",
   "metadata": {},
   "source": [
    "<b>Exercise 8:</b>  You have implemented the basics of linear regression using least-squares, including a simple optimization algorithm.  Discuss advantages and disadvantages of this technique for regression."
   ]
  },
  {
   "cell_type": "markdown",
   "metadata": {},
   "source": [
    "<b>Solution 8:</b>  Linear regression is an extremely simplistic model.  It is relatively straightforward to optimize for $c$, using the technique above, direct linear system solvers, or other techniques (stochastic gradient descent, conjugate gradients, QR factorization, ...).  On the other hand, many relationships are <i>nonlinear</i>.  As a simple example, this model can predict negative numbers, which doesn't make sense!"
   ]
  },
  {
   "cell_type": "markdown",
   "metadata": {},
   "source": [
    "# SGD"
   ]
  },
  {
   "cell_type": "code",
   "execution_count": 1,
   "metadata": {},
   "outputs": [],
   "source": [
    "def stochGradf(w,X,h):\n",
    "    # pick a random training data point\n",
    "    (n,d)=X.shape\n",
    "    idx = np.random.randint(n)\n",
    "    x = X[idx,:].reshape(1,d)  # to make it into a proper row vector\n",
    "    y = x*(x.dot(w)-h[idx])    # the actual stochastic gradient\n",
    "    return y.T                 # annoying Python transpose junk needed!"
   ]
  },
  {
   "cell_type": "code",
   "execution_count": 20,
   "metadata": {},
   "outputs": [
    {
     "name": "stdout",
     "output_type": "stream",
     "text": [
      "[[0.09232165]\n",
      " [1.00893091]\n",
      " [1.99785171]\n",
      " [2.91056519]]\n"
     ]
    },
    {
     "data": {
      "image/png": "[encoded data removed]",
      "text/plain": [
       "<Figure size 432x288 with 1 Axes>"
      ]
     },
     "metadata": {},
     "output_type": "display_data"
    }
   ],
   "source": [
    "# Synthesize a dataset of size n x d\n",
    "n = 100\n",
    "d = 4\n",
    "\n",
    "X = rand(n,d)\n",
    "w_groundtruth = np.arange(d).reshape(d,1)\n",
    "y = X.dot(w_groundtruth) + 0.01*rand(n,1)\n",
    "\n",
    "\n",
    "# Parameters of gradient descent:  Feel free to play with these!\n",
    "eta    = 0.007\n",
    "maxiter = 5000\n",
    "\n",
    "# Initialize a guess for the solution \"w\"\n",
    "w = np.zeros((d,1))\n",
    "\n",
    "# We will use the following vector to keep track of objective values\n",
    "objective_values = np.zeros((maxiter,1))\n",
    "\n",
    "for i in range(maxiter):\n",
    "    w -= eta*stochGradf(w,X,y)     # gradient descent step\n",
    "    objective_values[i] = f(w,X,y) # store objective value\n",
    "\n",
    "# Plot the objective as a function of the iteration\n",
    "plt.plot(objective_values)\n",
    "plt.xlabel('# of training data used')\n",
    "plt.ylabel('Objective function value')\n",
    "\n",
    "print(w)"
   ]
  },
  {
   "cell_type": "code",
   "execution_count": 19,
   "metadata": {},
   "outputs": [
    {
     "name": "stdout",
     "output_type": "stream",
     "text": [
      "[[0]\n",
      " [1]\n",
      " [2]\n",
      " [3]]\n"
     ]
    }
   ],
   "source": [
    "print(w_groundtruth)"
   ]
  },
  {
   "cell_type": "code",
   "execution_count": null,
   "metadata": {},
   "outputs": [],
   "source": []
  }
 ],
 "metadata": {
  "kernelspec": {
   "display_name": "Python 3",
   "language": "python",
   "name": "python3"
  },
  "language_info": {
   "codemirror_mode": {
    "name": "ipython",
    "version": 3
   },
   "file_extension": ".py",
   "mimetype": "text/x-python",
   "name": "python",
   "nbconvert_exporter": "python",
   "pygments_lexer": "ipython3",
   "version": "3.8.10"
  }
 },
 "nbformat": 4,
 "nbformat_minor": 2
}
